{
 "cells": [
  {
   "cell_type": "markdown",
   "metadata": {
    "colab_type": "text",
    "id": "view-in-github"
   },
   "source": [
    "<a href=\"https://colab.research.google.com/github/EngComp-Henrique/Effective-Pandas/blob/main/Effective-Pandas-Chapter-4.ipynb\" target=\"_parent\"><img src=\"https://colab.research.google.com/assets/colab-badge.svg\" alt=\"Open In Colab\"/></a>"
   ]
  },
  {
   "cell_type": "markdown",
   "metadata": {
    "id": "9yerASpLivVR"
   },
   "source": [
    "## Content\n",
    "* Study of `Series` data structure\n",
    "* Dictionaries and series\n",
    "* `Numpy` as `Series`\n",
    "* `dtypes`\n",
    "\n",
    "## What is a Series\n",
    "* A unidimensional data structure\n",
    "* Imagine we want to represent this:\n",
    "\n",
    "|  hello | world |\n",
    "|--------|-------|\n",
    "|    0   |  145  | \n",
    "|    1   |  142  |\n",
    "|    2   |   38  | \n",
    "|    3   |   13  |\n",
    "\n",
    "We could use a built-in python data structure"
   ]
  },
  {
   "cell_type": "code",
   "execution_count": 1,
   "metadata": {
    "id": "GHIm_1z3ioev"
   },
   "outputs": [],
   "source": [
    "series = {\n",
    "    'index':    [0, 1, 2, 3],\n",
    "    'data':     [145, 142, 38, 13],\n",
    "    'name':     'songs'\n",
    "}"
   ]
  },
  {
   "cell_type": "markdown",
   "metadata": {
    "id": "vp5L7BeHjtjf"
   },
   "source": [
    "Getting items by index"
   ]
  },
  {
   "cell_type": "code",
   "execution_count": 2,
   "metadata": {
    "id": "U-b1uLjRjahf"
   },
   "outputs": [],
   "source": [
    "def get_items_by_index(series, idx):\n",
    "    value_idx = series['index'].index(idx)\n",
    "    return series['data'][value_idx]"
   ]
  },
  {
   "cell_type": "code",
   "execution_count": 3,
   "metadata": {
    "colab": {
     "base_uri": "https://localhost:8080/"
    },
    "id": "PObXqlJskD5k",
    "outputId": "93d022f6-2ac4-4c64-e33f-ba735f5cddec"
   },
   "outputs": [
    {
     "data": {
      "text/plain": [
       "142"
      ]
     },
     "execution_count": 3,
     "metadata": {},
     "output_type": "execute_result"
    }
   ],
   "source": [
    "get_items_by_index(series, 1)"
   ]
  },
  {
   "cell_type": "markdown",
   "metadata": {
    "id": "zVS0xynol8Ex"
   },
   "source": [
    "It's also possible to use this function even the indexes are strings"
   ]
  },
  {
   "cell_type": "code",
   "execution_count": 4,
   "metadata": {
    "id": "9I85rrYskHPp"
   },
   "outputs": [],
   "source": [
    "songs = {\n",
    "    'index':[ 'Paul' , 'John' , 'George', 'Ringo'],\n",
    "    'data':[145 , 142 , 38 , 13] ,\n",
    "    'name': 'counts'\n",
    "}"
   ]
  },
  {
   "cell_type": "code",
   "execution_count": 5,
   "metadata": {
    "colab": {
     "base_uri": "https://localhost:8080/"
    },
    "id": "NbXjyEccmHct",
    "outputId": "598ec509-3ee1-4a57-ae2c-10b4b7e0064c"
   },
   "outputs": [
    {
     "data": {
      "text/plain": [
       "142"
      ]
     },
     "execution_count": 5,
     "metadata": {},
     "output_type": "execute_result"
    }
   ],
   "source": [
    "get_items_by_index(songs, 'John')"
   ]
  },
  {
   "cell_type": "markdown",
   "metadata": {
    "id": "qsOvVqi-mlqq"
   },
   "source": [
    "### The pandas series\n",
    "* Let's take a look at how we could do the same job using Series"
   ]
  },
  {
   "cell_type": "code",
   "execution_count": 6,
   "metadata": {
    "colab": {
     "base_uri": "https://localhost:8080/"
    },
    "id": "FXTgDbZ-mLfG",
    "outputId": "d7903afd-febe-4f08-b2e4-2a99a0bdb3ab"
   },
   "outputs": [
    {
     "data": {
      "text/plain": [
       "0    145\n",
       "1    148\n",
       "2     38\n",
       "3     13\n",
       "Name: counts, dtype: int64"
      ]
     },
     "execution_count": 6,
     "metadata": {},
     "output_type": "execute_result"
    }
   ],
   "source": [
    "import pandas as pd\n",
    "songs2 = pd.Series([145, 148, 38, 13], name='counts')\n",
    "songs2"
   ]
  },
  {
   "cell_type": "code",
   "execution_count": 7,
   "metadata": {
    "colab": {
     "base_uri": "https://localhost:8080/"
    },
    "id": "agmt8r-pnC7B",
    "outputId": "0e266582-1c26-4f80-dfe8-5bed25eee937"
   },
   "outputs": [
    {
     "data": {
      "text/plain": [
       "RangeIndex(start=0, stop=4, step=1)"
      ]
     },
     "execution_count": 7,
     "metadata": {},
     "output_type": "execute_result"
    }
   ],
   "source": [
    "songs2.index"
   ]
  },
  {
   "cell_type": "code",
   "execution_count": 8,
   "metadata": {
    "id": "ccnYy0Mnn530"
   },
   "outputs": [],
   "source": [
    "songs3 = pd.Series(\n",
    "    [145 , 142 , 38 , 13],\n",
    "    name='counts',\n",
    "    index=['Paul' , 'John' , 'George', 'Ringo'])"
   ]
  },
  {
   "cell_type": "code",
   "execution_count": 9,
   "metadata": {
    "colab": {
     "base_uri": "https://localhost:8080/"
    },
    "id": "gSoTTeIYoRfp",
    "outputId": "cdaeda09-03b1-45e7-ca60-10bb8740b1db"
   },
   "outputs": [
    {
     "data": {
      "text/plain": [
       "Index(['Paul', 'John', 'George', 'Ringo'], dtype='object')"
      ]
     },
     "execution_count": 9,
     "metadata": {},
     "output_type": "execute_result"
    }
   ],
   "source": [
    "songs3.index"
   ]
  },
  {
   "cell_type": "markdown",
   "metadata": {
    "id": "vAiVvLhwqATU"
   },
   "source": [
    "\n",
    "When dtype is object: \n",
    "1. Strings values are used as indexes\n",
    "2. Heterogeneous or mixed types\n",
    "\n",
    "Don't use object type when you have numerical or date types"
   ]
  },
  {
   "cell_type": "markdown",
   "metadata": {
    "id": "fPwM3IXdp1U_"
   },
   "source": [
    "## The `NaN` value\n",
    "* It's a standar for *Not a number* value\n",
    "* Not considered in numerical operations\n",
    "* Just supported by `float64`\n",
    "\n",
    "### Note\n",
    "Because `NaN` is only supported by `float64`, a broadcast operation takes place, so the numerical data will be converted. See the example below"
   ]
  },
  {
   "cell_type": "code",
   "execution_count": 10,
   "metadata": {
    "id": "tBc2W1RdoeTZ"
   },
   "outputs": [],
   "source": [
    "import numpy as np\n",
    "nan_series = pd.Series([2, np.nan],\n",
    "            index=['Ono', 'Clapton'])"
   ]
  },
  {
   "cell_type": "code",
   "execution_count": 11,
   "metadata": {
    "colab": {
     "base_uri": "https://localhost:8080/"
    },
    "id": "h6lnpix7qlz-",
    "outputId": "6946db61-c4d9-40ae-8d31-1186fd2f9d09"
   },
   "outputs": [
    {
     "data": {
      "text/plain": [
       "Ono        2.0\n",
       "Clapton    NaN\n",
       "dtype: float64"
      ]
     },
     "execution_count": 11,
     "metadata": {},
     "output_type": "execute_result"
    }
   ],
   "source": [
    "nan_series"
   ]
  },
  {
   "cell_type": "markdown",
   "metadata": {
    "id": "Vaovcp7eJy3U"
   },
   "source": [
    "Notice the `count` method return the value of non-NA values observation in the series"
   ]
  },
  {
   "cell_type": "code",
   "execution_count": 12,
   "metadata": {
    "colab": {
     "base_uri": "https://localhost:8080/"
    },
    "id": "6dg5Lkd4qtUF",
    "outputId": "7267aafd-06fd-457d-834c-1e62e4ba74fd"
   },
   "outputs": [
    {
     "data": {
      "text/plain": [
       "1"
      ]
     },
     "execution_count": 12,
     "metadata": {},
     "output_type": "execute_result"
    }
   ],
   "source": [
    "nan_series.count()"
   ]
  },
  {
   "cell_type": "markdown",
   "metadata": {
    "id": "wzuaKyLIJ_qy"
   },
   "source": [
    "The size property also counts the NA values"
   ]
  },
  {
   "cell_type": "code",
   "execution_count": 13,
   "metadata": {
    "colab": {
     "base_uri": "https://localhost:8080/"
    },
    "id": "Go-36JZLrj3A",
    "outputId": "e8b69644-6295-474a-ed5d-c311ad9e60e6"
   },
   "outputs": [
    {
     "data": {
      "text/plain": [
       "2"
      ]
     },
     "execution_count": 13,
     "metadata": {},
     "output_type": "execute_result"
    }
   ],
   "source": [
    "nan_series.size"
   ]
  },
  {
   "cell_type": "markdown",
   "metadata": {
    "id": "GDP0keK1KF6X"
   },
   "source": [
    "## Optional Integer Support for `NaN`\n",
    "* `int64` doesn't support NA values! But it is possible to consider them using the `dtype=Int64`\n",
    "* The broadcast operation won't happen!\n",
    "\n",
    "#### Note\n",
    "* In general, missing data is cleared"
   ]
  },
  {
   "cell_type": "code",
   "execution_count": 14,
   "metadata": {
    "colab": {
     "base_uri": "https://localhost:8080/"
    },
    "id": "ulH04W1brlhd",
    "outputId": "b994ec9d-0a36-48dd-92e5-70ed8c2ae0f2"
   },
   "outputs": [
    {
     "data": {
      "text/plain": [
       "Ono           2\n",
       "Clapton    <NA>\n",
       "dtype: Int64"
      ]
     },
     "execution_count": 14,
     "metadata": {},
     "output_type": "execute_result"
    }
   ],
   "source": [
    "nan_series2 = pd.Series([2, None], index=['Ono', 'Clapton'], dtype='Int64')\n",
    "nan_series2"
   ]
  },
  {
   "cell_type": "code",
   "execution_count": 15,
   "metadata": {
    "colab": {
     "base_uri": "https://localhost:8080/"
    },
    "id": "gXTA7FohLjPS",
    "outputId": "5f2a426c-90ae-48d3-89e9-9225d2a662b2"
   },
   "outputs": [
    {
     "data": {
      "text/plain": [
       "1"
      ]
     },
     "execution_count": 15,
     "metadata": {},
     "output_type": "execute_result"
    }
   ],
   "source": [
    "nan_series2.count()"
   ]
  },
  {
   "cell_type": "code",
   "execution_count": 16,
   "metadata": {
    "colab": {
     "base_uri": "https://localhost:8080/"
    },
    "id": "mH93Vx0TLrZo",
    "outputId": "c7aa4006-52ba-4e9f-990f-df5fb87d6b62"
   },
   "outputs": [
    {
     "data": {
      "text/plain": [
       "2"
      ]
     },
     "execution_count": 16,
     "metadata": {},
     "output_type": "execute_result"
    }
   ],
   "source": [
    "nan_series2.size"
   ]
  },
  {
   "cell_type": "markdown",
   "metadata": {
    "id": "NkYyvYLaMZco"
   },
   "source": [
    "## Similar to `Numpy`"
   ]
  },
  {
   "cell_type": "code",
   "execution_count": 17,
   "metadata": {
    "id": "BIuRhQN_LuYl"
   },
   "outputs": [],
   "source": [
    "import numpy as np\n",
    "\n",
    "numpy_ser = np.array([145 , 142 , 38 , 13])"
   ]
  },
  {
   "cell_type": "code",
   "execution_count": 18,
   "metadata": {
    "colab": {
     "base_uri": "https://localhost:8080/"
    },
    "id": "31TuF7dVMt9Q",
    "outputId": "d00cd25a-b6ee-4922-f3b4-7abb95d233dd"
   },
   "outputs": [
    {
     "data": {
      "text/plain": [
       "True"
      ]
     },
     "execution_count": 18,
     "metadata": {},
     "output_type": "execute_result"
    }
   ],
   "source": [
    "songs3[1] == numpy_ser[1]"
   ]
  },
  {
   "cell_type": "markdown",
   "metadata": {
    "id": "eOnswPuKN5Cb"
   },
   "source": [
    "it is possible to filter data, both in `Series` and in `Numpy`, once both support the *boolean array* concept"
   ]
  },
  {
   "cell_type": "code",
   "execution_count": 19,
   "metadata": {
    "colab": {
     "base_uri": "https://localhost:8080/"
    },
    "id": "IApp0BZOMx3N",
    "outputId": "b0a41658-b4c6-4b70-9aa6-50d6c1148502"
   },
   "outputs": [
    {
     "data": {
      "text/plain": [
       "84.5"
      ]
     },
     "execution_count": 19,
     "metadata": {},
     "output_type": "execute_result"
    }
   ],
   "source": [
    "songs3.mean()"
   ]
  },
  {
   "cell_type": "code",
   "execution_count": 20,
   "metadata": {
    "colab": {
     "base_uri": "https://localhost:8080/"
    },
    "id": "LuOTHpLZOIwr",
    "outputId": "ab311e1a-257a-49b5-9e88-1be705ef524a"
   },
   "outputs": [
    {
     "data": {
      "text/plain": [
       "84.5"
      ]
     },
     "execution_count": 20,
     "metadata": {},
     "output_type": "execute_result"
    }
   ],
   "source": [
    "numpy_ser.mean()"
   ]
  },
  {
   "cell_type": "code",
   "execution_count": 21,
   "metadata": {
    "colab": {
     "base_uri": "https://localhost:8080/"
    },
    "id": "Awn20_OHOK1d",
    "outputId": "49c90ce4-2ccc-4971-fb80-33ffa2b49c87"
   },
   "outputs": [
    {
     "data": {
      "text/plain": [
       "Paul       True\n",
       "John       True\n",
       "George    False\n",
       "Ringo     False\n",
       "Name: counts, dtype: bool"
      ]
     },
     "execution_count": 21,
     "metadata": {},
     "output_type": "execute_result"
    }
   ],
   "source": [
    "mask = songs3 > songs3.mean()\n",
    "mask"
   ]
  },
  {
   "cell_type": "code",
   "execution_count": 22,
   "metadata": {
    "colab": {
     "base_uri": "https://localhost:8080/"
    },
    "id": "KbbjCjiaOV4C",
    "outputId": "65d258dc-6a74-41ae-8ea9-2559bcb013b7"
   },
   "outputs": [
    {
     "data": {
      "text/plain": [
       "Paul    145\n",
       "John    142\n",
       "Name: counts, dtype: int64"
      ]
     },
     "execution_count": 22,
     "metadata": {},
     "output_type": "execute_result"
    }
   ],
   "source": [
    "songs3[mask]"
   ]
  },
  {
   "cell_type": "code",
   "execution_count": 23,
   "metadata": {
    "colab": {
     "base_uri": "https://localhost:8080/"
    },
    "id": "Smg6DXmPOkFZ",
    "outputId": "4a679b79-a4ef-47f1-ef7d-d9f781f00d7b"
   },
   "outputs": [
    {
     "data": {
      "text/plain": [
       "array([145, 142])"
      ]
     },
     "execution_count": 23,
     "metadata": {},
     "output_type": "execute_result"
    }
   ],
   "source": [
    "numpy_ser[numpy_ser >np . median ( numpy_ser )]"
   ]
  },
  {
   "cell_type": "markdown",
   "metadata": {
    "id": "E7IiNNcLPs0O"
   },
   "source": [
    "## Categorical Data\n",
    "* Use less memory than string type\n",
    "* Improve Performance\n",
    "* Can have an ordering\n",
    "* Can perform operations on categories\n",
    "* Enforce membership values"
   ]
  },
  {
   "cell_type": "code",
   "execution_count": 24,
   "metadata": {
    "id": "qszfISIHOlm5"
   },
   "outputs": [],
   "source": [
    "s = pd.Series(['m', 'l', 'xs', 's', 'xl'], dtype='category')"
   ]
  },
  {
   "cell_type": "code",
   "execution_count": 25,
   "metadata": {
    "colab": {
     "base_uri": "https://localhost:8080/"
    },
    "id": "eOLUG-X5QxBu",
    "outputId": "bddf6414-28b9-4a0c-e4f8-23c2f6dff788"
   },
   "outputs": [
    {
     "data": {
      "text/plain": [
       "0     m\n",
       "1     l\n",
       "2    xs\n",
       "3     s\n",
       "4    xl\n",
       "dtype: category\n",
       "Categories (5, object): ['l', 'm', 's', 'xl', 'xs']"
      ]
     },
     "execution_count": 25,
     "metadata": {},
     "output_type": "execute_result"
    }
   ],
   "source": [
    "s"
   ]
  },
  {
   "cell_type": "markdown",
   "metadata": {
    "id": "sm6RlaDaRVdf"
   },
   "source": [
    "As we can see, categories can be ordered or not"
   ]
  },
  {
   "cell_type": "code",
   "execution_count": 26,
   "metadata": {
    "colab": {
     "base_uri": "https://localhost:8080/"
    },
    "id": "ur8kzJFIQxa7",
    "outputId": "7869c1c3-34ae-44be-d179-f248f4d18f7d"
   },
   "outputs": [
    {
     "data": {
      "text/plain": [
       "False"
      ]
     },
     "execution_count": 26,
     "metadata": {},
     "output_type": "execute_result"
    }
   ],
   "source": [
    "s.cat.ordered"
   ]
  },
  {
   "cell_type": "markdown",
   "metadata": {
    "id": "OCL4ua0nR31j"
   },
   "source": [
    "Giving an order to the `Series`"
   ]
  },
  {
   "cell_type": "code",
   "execution_count": 27,
   "metadata": {
    "id": "jVx-cRrKRBYN"
   },
   "outputs": [],
   "source": [
    "s2 = pd.Series(['m', 'l', 'xs', 's', 'xl'], dtype='category')\n",
    "size_type = pd.api.types.CategoricalDtype(\n",
    "    categories=['s', 'm', 'l'], ordered=True)"
   ]
  },
  {
   "cell_type": "code",
   "execution_count": 28,
   "metadata": {
    "colab": {
     "base_uri": "https://localhost:8080/"
    },
    "id": "JxXe3oteRzO7",
    "outputId": "11118172-20ed-46a7-84cc-afa3cd30425f"
   },
   "outputs": [
    {
     "data": {
      "text/plain": [
       "CategoricalDtype(categories=['s', 'm', 'l'], ordered=True)"
      ]
     },
     "execution_count": 28,
     "metadata": {},
     "output_type": "execute_result"
    }
   ],
   "source": [
    "size_type"
   ]
  },
  {
   "cell_type": "markdown",
   "metadata": {
    "id": "6X9nzD0MR8XH"
   },
   "source": [
    "Creating the ordered categories"
   ]
  },
  {
   "cell_type": "code",
   "execution_count": 29,
   "metadata": {
    "id": "7ag5S53UR0sU"
   },
   "outputs": [],
   "source": [
    "s3 = s2.astype(size_type)"
   ]
  },
  {
   "cell_type": "code",
   "execution_count": 30,
   "metadata": {
    "colab": {
     "base_uri": "https://localhost:8080/"
    },
    "id": "8JKO_gpnSCAa",
    "outputId": "97b2ce88-79d0-439e-9b77-1ba2f06da52c"
   },
   "outputs": [
    {
     "data": {
      "text/plain": [
       "0      m\n",
       "1      l\n",
       "2    NaN\n",
       "3      s\n",
       "4    NaN\n",
       "dtype: category\n",
       "Categories (3, object): ['s' < 'm' < 'l']"
      ]
     },
     "execution_count": 30,
     "metadata": {},
     "output_type": "execute_result"
    }
   ],
   "source": [
    "s3"
   ]
  },
  {
   "cell_type": "markdown",
   "metadata": {
    "id": "RqDEU6OYSQqr"
   },
   "source": [
    "Now we can make comparisons"
   ]
  },
  {
   "cell_type": "code",
   "execution_count": 31,
   "metadata": {
    "colab": {
     "base_uri": "https://localhost:8080/"
    },
    "id": "RojAD7ZPSCuu",
    "outputId": "2fe5cc4e-c039-4a9a-fb94-3e7fb86865ce"
   },
   "outputs": [
    {
     "data": {
      "text/plain": [
       "0     True\n",
       "1     True\n",
       "2    False\n",
       "3    False\n",
       "4    False\n",
       "dtype: bool"
      ]
     },
     "execution_count": 31,
     "metadata": {},
     "output_type": "execute_result"
    }
   ],
   "source": [
    "s3 > 's'"
   ]
  },
  {
   "cell_type": "markdown",
   "metadata": {
    "id": "YL3gU4CTScwf"
   },
   "source": [
    "Reordering operation\n",
    "\n",
    "### Note\n",
    "* The categories **must** be the same!"
   ]
  },
  {
   "cell_type": "code",
   "execution_count": 32,
   "metadata": {
    "colab": {
     "base_uri": "https://localhost:8080/"
    },
    "id": "eu7R3Q5jSb7S",
    "outputId": "94356dbd-2319-4d7c-9c6f-8323abeb8b01"
   },
   "outputs": [
    {
     "data": {
      "text/plain": [
       "0     m\n",
       "1     l\n",
       "2    xs\n",
       "3     s\n",
       "4    xl\n",
       "dtype: category\n",
       "Categories (5, object): ['xs' < 's' < 'm' < 'l' < 'xl']"
      ]
     },
     "execution_count": 32,
     "metadata": {},
     "output_type": "execute_result"
    }
   ],
   "source": [
    "s.cat.reorder_categories(['xs','s','m','l', 'xl'], ordered=True)"
   ]
  },
  {
   "cell_type": "markdown",
   "metadata": {
    "id": "vLw2m2O3TEG-"
   },
   "source": [
    "We get an error if the categories are different"
   ]
  },
  {
   "cell_type": "code",
   "execution_count": 33,
   "metadata": {
    "colab": {
     "base_uri": "https://localhost:8080/"
    },
    "id": "ciumun2CSw4K",
    "outputId": "10555bf6-894f-44a5-a7fb-9b8bb885b1db"
   },
   "outputs": [
    {
     "name": "stdout",
     "output_type": "stream",
     "text": [
      "ValueError: items in new_categories are not the same as in old categories\n"
     ]
    }
   ],
   "source": [
    "try:\n",
    "    s.cat.reorder_categories(['a','b','c','d', 'e'], ordered=True)\n",
    "except ValueError:\n",
    "    print(\"ValueError: items in new_categories are not the same as in old categories\")"
   ]
  },
  {
   "cell_type": "markdown",
   "metadata": {
    "id": "G5Gy9DXyexTE"
   },
   "source": [
    "---\n",
    "## Exercises\n",
    "\n",
    "1. Using Jupyter, create a series with the temperature values for the last seven days. Filter out the values below the mean."
   ]
  },
  {
   "cell_type": "code",
   "execution_count": 34,
   "metadata": {
    "id": "JXF4FWjQTDJT"
   },
   "outputs": [],
   "source": [
    "weather_week = pd.Series(\n",
    "    data=[21.0, 22.0, 22.0, 23.0, 21.0, 21.0, 22.0],\n",
    "    index=[\"Sun\", \"Mon\", \"Tue\", \"Wed\", \"Thu\", \"Fri\", \"Sat\"],\n",
    "    dtype='float64'\n",
    ")"
   ]
  },
  {
   "cell_type": "code",
   "execution_count": 35,
   "metadata": {
    "colab": {
     "base_uri": "https://localhost:8080/"
    },
    "id": "jAPT-wTZjDQz",
    "outputId": "95db75db-487b-4fb0-a083-4c9eae47c7a9"
   },
   "outputs": [
    {
     "data": {
      "text/plain": [
       "Sun    21.0\n",
       "Mon    22.0\n",
       "Tue    22.0\n",
       "Wed    23.0\n",
       "Thu    21.0\n",
       "Fri    21.0\n",
       "Sat    22.0\n",
       "dtype: float64"
      ]
     },
     "execution_count": 35,
     "metadata": {},
     "output_type": "execute_result"
    }
   ],
   "source": [
    "weather_week"
   ]
  },
  {
   "cell_type": "code",
   "execution_count": 36,
   "metadata": {
    "colab": {
     "base_uri": "https://localhost:8080/"
    },
    "id": "0HGgyHK4jbh2",
    "outputId": "0dbed0d3-9ea2-4152-ac72-e41d90ca40be"
   },
   "outputs": [
    {
     "data": {
      "text/plain": [
       "21.714285714285715"
      ]
     },
     "execution_count": 36,
     "metadata": {},
     "output_type": "execute_result"
    }
   ],
   "source": [
    "weather_week.mean()"
   ]
  },
  {
   "cell_type": "code",
   "execution_count": 37,
   "metadata": {
    "colab": {
     "base_uri": "https://localhost:8080/"
    },
    "id": "UR_UUNFjjI-6",
    "outputId": "77b6a8b4-1e50-4781-dd77-e5a415678809"
   },
   "outputs": [
    {
     "data": {
      "text/plain": [
       "Sun    False\n",
       "Mon     True\n",
       "Tue     True\n",
       "Wed     True\n",
       "Thu    False\n",
       "Fri    False\n",
       "Sat     True\n",
       "dtype: bool"
      ]
     },
     "execution_count": 37,
     "metadata": {},
     "output_type": "execute_result"
    }
   ],
   "source": [
    "mask = weather_week > weather_week.mean()\n",
    "mask"
   ]
  },
  {
   "cell_type": "code",
   "execution_count": 38,
   "metadata": {
    "colab": {
     "base_uri": "https://localhost:8080/"
    },
    "id": "xBHGKSySjS3L",
    "outputId": "0c6eea3a-06b7-4371-cd1f-44051d57d311"
   },
   "outputs": [
    {
     "data": {
      "text/plain": [
       "Mon    22.0\n",
       "Tue    22.0\n",
       "Wed    23.0\n",
       "Sat    22.0\n",
       "dtype: float64"
      ]
     },
     "execution_count": 38,
     "metadata": {},
     "output_type": "execute_result"
    }
   ],
   "source": [
    "weather_week[mask]"
   ]
  },
  {
   "cell_type": "markdown",
   "metadata": {
    "id": "yyiQuC-9hPod"
   },
   "source": [
    "2. Using Jupyter, create a series with your favorite colors. Use a categorical type."
   ]
  },
  {
   "cell_type": "code",
   "execution_count": 39,
   "metadata": {
    "id": "XmYpvb9ehQB5"
   },
   "outputs": [],
   "source": [
    "colors = pd.Series([\"Black\", \"White\", \"Blue\", \"Pink\"], dtype='category')\n",
    "colors_order = pd.api.types.CategoricalDtype([\"Black\", \"White\", \"Blue\", \"Pink\"], ordered=True)"
   ]
  },
  {
   "cell_type": "code",
   "execution_count": 40,
   "metadata": {
    "colab": {
     "base_uri": "https://localhost:8080/"
    },
    "id": "4g5Zl5AijyoV",
    "outputId": "b73945de-1039-4863-a8c5-cc68fbe60bac"
   },
   "outputs": [
    {
     "data": {
      "text/plain": [
       "0    Black\n",
       "1    White\n",
       "2     Blue\n",
       "3     Pink\n",
       "dtype: category\n",
       "Categories (4, object): ['Black', 'Blue', 'Pink', 'White']"
      ]
     },
     "execution_count": 40,
     "metadata": {},
     "output_type": "execute_result"
    }
   ],
   "source": [
    "colors"
   ]
  },
  {
   "cell_type": "code",
   "execution_count": 41,
   "metadata": {
    "colab": {
     "base_uri": "https://localhost:8080/"
    },
    "id": "tMiWhm3ejzdP",
    "outputId": "2d3e3664-cf16-4c6d-dff9-6976adbd44da"
   },
   "outputs": [
    {
     "data": {
      "text/plain": [
       "CategoricalDtype(categories=['Black', 'White', 'Blue', 'Pink'], ordered=True)"
      ]
     },
     "execution_count": 41,
     "metadata": {},
     "output_type": "execute_result"
    }
   ],
   "source": [
    "colors_order"
   ]
  },
  {
   "cell_type": "code",
   "execution_count": 42,
   "metadata": {
    "id": "l4boIeKtkO_x"
   },
   "outputs": [],
   "source": [
    "ordered_colors = colors.astype(colors_order)"
   ]
  },
  {
   "cell_type": "code",
   "execution_count": 43,
   "metadata": {
    "colab": {
     "base_uri": "https://localhost:8080/"
    },
    "id": "BEAQpPQlkSyK",
    "outputId": "ff047721-f160-44f7-cad5-999f55444adf"
   },
   "outputs": [
    {
     "data": {
      "text/plain": [
       "0    Black\n",
       "1    White\n",
       "2     Blue\n",
       "3     Pink\n",
       "dtype: category\n",
       "Categories (4, object): ['Black' < 'White' < 'Blue' < 'Pink']"
      ]
     },
     "execution_count": 43,
     "metadata": {},
     "output_type": "execute_result"
    }
   ],
   "source": [
    "ordered_colors"
   ]
  },
  {
   "cell_type": "code",
   "execution_count": 43,
   "metadata": {
    "id": "gXjfGhi9kUTD"
   },
   "outputs": [],
   "source": []
  }
 ],
 "metadata": {
  "colab": {
   "authorship_tag": "ABX9TyP2wTN8+r05mv/qBMqTCsPe",
   "collapsed_sections": [],
   "include_colab_link": true,
   "provenance": []
  },
  "kernelspec": {
   "display_name": "Python 3",
   "language": "python",
   "name": "python3"
  },
  "language_info": {
   "codemirror_mode": {
    "name": "ipython",
    "version": 3
   },
   "file_extension": ".py",
   "mimetype": "text/x-python",
   "name": "python",
   "nbconvert_exporter": "python",
   "pygments_lexer": "ipython3",
   "version": "3.8.8"
  }
 },
 "nbformat": 4,
 "nbformat_minor": 4
}
