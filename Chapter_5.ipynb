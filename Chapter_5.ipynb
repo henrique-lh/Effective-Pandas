{
 "cells": [
  {
   "cell_type": "markdown",
   "metadata": {
    "colab_type": "text",
    "id": "view-in-github"
   },
   "source": [
    "<a href=\"https://colab.research.google.com/github/EngComp-Henrique/Effective-Pandas/blob/main/Effective-Pandas-Chapter-5-6.ipynb\" target=\"_parent\"><img src=\"https://colab.research.google.com/assets/colab-badge.svg\" alt=\"Open In Colab\"/></a>"
   ]
  },
  {
   "cell_type": "markdown",
   "metadata": {
    "id": "JS5A_btmH_jq"
   },
   "source": [
    "# Series Deep Dive\n",
    "* Let's see more about `Series` data structure and some methods\n",
    "* First, I'll import the libraries"
   ]
  },
  {
   "cell_type": "code",
   "execution_count": 1,
   "metadata": {
    "id": "Z5cAcP3bG9x8"
   },
   "outputs": [],
   "source": [
    "import pandas as pd\n",
    "from io import StringIO"
   ]
  },
  {
   "cell_type": "markdown",
   "metadata": {
    "id": "IqYCyt1KJq8R"
   },
   "source": [
    "Then, the url link is saved on a variable. This link contains data from the US Fuel Economy. This site has data on the efficiency of makes and models of cars sold in the US since 1984"
   ]
  },
  {
   "cell_type": "code",
   "execution_count": 2,
   "metadata": {
    "id": "ASZip0ClI_v0"
   },
   "outputs": [],
   "source": [
    "url = 'https://github.com/mattharrison/datasets/raw/master/data/vehicles.csv.zip'"
   ]
  },
  {
   "cell_type": "markdown",
   "metadata": {
    "id": "enSwBVLqJu2h"
   },
   "source": [
    "Finally, we load the data\n",
    "\n",
    "### Note\n",
    "* Get the data on [Fuel Economy](https://www.fueleconomy.gov/feg/download.shtml)\n",
    "* `read_csv` method is able to load data from url's and zip files (if there's only a file)"
   ]
  },
  {
   "cell_type": "code",
   "execution_count": 3,
   "metadata": {
    "colab": {
     "base_uri": "https://localhost:8080/"
    },
    "id": "DCr4uHldIZ0U",
    "outputId": "492832e6-fe68-4468-e6ee-057d160a3904"
   },
   "outputs": [
    {
     "name": "stderr",
     "output_type": "stream",
     "text": [
      "/usr/local/lib/python3.7/dist-packages/IPython/core/interactiveshell.py:3326: DtypeWarning: Columns (68,70,71,72,73,74,76,79) have mixed types.Specify dtype option on import or set low_memory=False.\n",
      "  exec(code_obj, self.user_global_ns, self.user_ns)\n"
     ]
    }
   ],
   "source": [
    "df = pd.read_csv(url)"
   ]
  },
  {
   "cell_type": "markdown",
   "metadata": {
    "id": "FeqQyTRcKa2e"
   },
   "source": [
    "Let's investigate the first columns in the dataset: *city08* and *highway08*. These columns provide info about miles per gallon usage, while driving around in the city and highway respectively"
   ]
  },
  {
   "cell_type": "code",
   "execution_count": 4,
   "metadata": {
    "id": "Up2kM1cYKacH"
   },
   "outputs": [],
   "source": [
    "city_mpg = df.city08\n",
    "highway_mpg = df.highway08"
   ]
  },
  {
   "cell_type": "code",
   "execution_count": 5,
   "metadata": {
    "colab": {
     "base_uri": "https://localhost:8080/"
    },
    "id": "oODmenTcImFs",
    "outputId": "29e7c393-acb7-428a-82be-adf39828fe48"
   },
   "outputs": [
    {
     "data": {
      "text/plain": [
       "0        19\n",
       "1         9\n",
       "2        23\n",
       "3        10\n",
       "4        17\n",
       "         ..\n",
       "41139    19\n",
       "41140    20\n",
       "41141    18\n",
       "41142    18\n",
       "41143    16\n",
       "Name: city08, Length: 41144, dtype: int64"
      ]
     },
     "execution_count": 5,
     "metadata": {},
     "output_type": "execute_result"
    }
   ],
   "source": [
    "city_mpg"
   ]
  },
  {
   "cell_type": "code",
   "execution_count": 6,
   "metadata": {
    "colab": {
     "base_uri": "https://localhost:8080/"
    },
    "id": "sQXxnneWKrV3",
    "outputId": "d3780e9c-1d04-485f-a723-4562a0d158f5"
   },
   "outputs": [
    {
     "data": {
      "text/plain": [
       "0        25\n",
       "1        14\n",
       "2        33\n",
       "3        12\n",
       "4        23\n",
       "         ..\n",
       "41139    26\n",
       "41140    28\n",
       "41141    24\n",
       "41142    24\n",
       "41143    21\n",
       "Name: highway08, Length: 41144, dtype: int64"
      ]
     },
     "execution_count": 6,
     "metadata": {},
     "output_type": "execute_result"
    }
   ],
   "source": [
    "highway_mpg"
   ]
  },
  {
   "cell_type": "markdown",
   "metadata": {
    "id": "XLCsG-dGLDaC"
   },
   "source": [
    "## Series attributes\n",
    "\n",
    "* Getting how many atrributes are available to `Series`\n",
    "* Will explore them in the next chapter!"
   ]
  },
  {
   "cell_type": "code",
   "execution_count": 7,
   "metadata": {
    "colab": {
     "base_uri": "https://localhost:8080/"
    },
    "id": "RARFBGOcKtov",
    "outputId": "7caba690-e1e6-446f-8ed4-5e83c0c8cb8f"
   },
   "outputs": [
    {
     "data": {
      "text/plain": [
       "419"
      ]
     },
     "execution_count": 7,
     "metadata": {},
     "output_type": "execute_result"
    }
   ],
   "source": [
    "len(dir(city_mpg))"
   ]
  },
  {
   "cell_type": "markdown",
   "metadata": {
    "id": "CWqLSYjpMTUG"
   },
   "source": [
    "----\n",
    "## Exercises\n",
    "1. Explore the documentation for five attributes of a series from Jupyter."
   ]
  },
  {
   "cell_type": "code",
   "execution_count": 8,
   "metadata": {
    "colab": {
     "base_uri": "https://localhost:8080/"
    },
    "id": "i8FKyhYdLIs-",
    "outputId": "dfa8ebe4-c4ba-46d2-9b71-6ab76048e600"
   },
   "outputs": [
    {
     "name": "stdout",
     "output_type": "stream",
     "text": [
      "Help on function mean in module pandas.core.generic:\n",
      "\n",
      "mean(self, axis=None, skipna=None, level=None, numeric_only=None, **kwargs)\n",
      "    Return the mean of the values over the requested axis.\n",
      "    \n",
      "    Parameters\n",
      "    ----------\n",
      "    axis : {index (0)}\n",
      "        Axis for the function to be applied on.\n",
      "    skipna : bool, default True\n",
      "        Exclude NA/null values when computing the result.\n",
      "    level : int or level name, default None\n",
      "        If the axis is a MultiIndex (hierarchical), count along a\n",
      "        particular level, collapsing into a scalar.\n",
      "    numeric_only : bool, default None\n",
      "        Include only float, int, boolean columns. If None, will attempt to use\n",
      "        everything, then use only numeric data. Not implemented for Series.\n",
      "    **kwargs\n",
      "        Additional keyword arguments to be passed to the function.\n",
      "    \n",
      "    Returns\n",
      "    -------\n",
      "    scalar or Series (if level specified)\n",
      "\n"
     ]
    }
   ],
   "source": [
    "help(pd.Series.mean)"
   ]
  },
  {
   "cell_type": "code",
   "execution_count": 9,
   "metadata": {
    "colab": {
     "base_uri": "https://localhost:8080/"
    },
    "id": "wg_5niUnMbKp",
    "outputId": "9c710a40-1d47-4111-fa7f-f0a0b44b5bac"
   },
   "outputs": [
    {
     "name": "stdout",
     "output_type": "stream",
     "text": [
      "Help on function add in module pandas.core.ops:\n",
      "\n",
      "add(self, other, level=None, fill_value=None, axis=0)\n",
      "    Return Addition of series and other, element-wise (binary operator `add`).\n",
      "    \n",
      "    Equivalent to ``series + other``, but with support to substitute a fill_value for\n",
      "    missing data in either one of the inputs.\n",
      "    \n",
      "    Parameters\n",
      "    ----------\n",
      "    other : Series or scalar value\n",
      "    fill_value : None or float value, default None (NaN)\n",
      "        Fill existing missing (NaN) values, and any new element needed for\n",
      "        successful Series alignment, with this value before computation.\n",
      "        If data in both corresponding Series locations is missing\n",
      "        the result of filling (at that location) will be missing.\n",
      "    level : int or name\n",
      "        Broadcast across a level, matching Index values on the\n",
      "        passed MultiIndex level.\n",
      "    \n",
      "    Returns\n",
      "    -------\n",
      "    Series\n",
      "        The result of the operation.\n",
      "    \n",
      "    See Also\n",
      "    --------\n",
      "    Series.radd : Reverse of the Addition operator, see\n",
      "        `Python documentation\n",
      "        <https://docs.python.org/3/reference/datamodel.html#emulating-numeric-types>`_\n",
      "        for more details.\n",
      "    \n",
      "    Examples\n",
      "    --------\n",
      "    >>> a = pd.Series([1, 1, 1, np.nan], index=['a', 'b', 'c', 'd'])\n",
      "    >>> a\n",
      "    a    1.0\n",
      "    b    1.0\n",
      "    c    1.0\n",
      "    d    NaN\n",
      "    dtype: float64\n",
      "    >>> b = pd.Series([1, np.nan, 1, np.nan], index=['a', 'b', 'd', 'e'])\n",
      "    >>> b\n",
      "    a    1.0\n",
      "    b    NaN\n",
      "    d    1.0\n",
      "    e    NaN\n",
      "    dtype: float64\n",
      "    >>> a.add(b, fill_value=0)\n",
      "    a    2.0\n",
      "    b    1.0\n",
      "    c    1.0\n",
      "    d    1.0\n",
      "    e    NaN\n",
      "    dtype: float64\n",
      "\n"
     ]
    }
   ],
   "source": [
    "help(pd.Series.add)"
   ]
  },
  {
   "cell_type": "code",
   "execution_count": 10,
   "metadata": {
    "colab": {
     "base_uri": "https://localhost:8080/"
    },
    "id": "9qds08_WMgyd",
    "outputId": "9d33347d-805b-483d-8f96-ff8da6dc69da"
   },
   "outputs": [
    {
     "name": "stdout",
     "output_type": "stream",
     "text": [
      "Help on property:\n",
      "\n",
      "    Access a group of rows and columns by label(s) or a boolean array.\n",
      "    \n",
      "    ``.loc[]`` is primarily label based, but may also be used with a\n",
      "    boolean array.\n",
      "    \n",
      "    Allowed inputs are:\n",
      "    \n",
      "    - A single label, e.g. ``5`` or ``'a'``, (note that ``5`` is\n",
      "      interpreted as a *label* of the index, and **never** as an\n",
      "      integer position along the index).\n",
      "    - A list or array of labels, e.g. ``['a', 'b', 'c']``.\n",
      "    - A slice object with labels, e.g. ``'a':'f'``.\n",
      "    \n",
      "      .. warning:: Note that contrary to usual python slices, **both** the\n",
      "          start and the stop are included\n",
      "    \n",
      "    - A boolean array of the same length as the axis being sliced,\n",
      "      e.g. ``[True, False, True]``.\n",
      "    - An alignable boolean Series. The index of the key will be aligned before\n",
      "      masking.\n",
      "    - An alignable Index. The Index of the returned selection will be the input.\n",
      "    - A ``callable`` function with one argument (the calling Series or\n",
      "      DataFrame) and that returns valid output for indexing (one of the above)\n",
      "    \n",
      "    See more at :ref:`Selection by Label <indexing.label>`.\n",
      "    \n",
      "    Raises\n",
      "    ------\n",
      "    KeyError\n",
      "        If any items are not found.\n",
      "    IndexingError\n",
      "        If an indexed key is passed and its index is unalignable to the frame index.\n",
      "    \n",
      "    See Also\n",
      "    --------\n",
      "    DataFrame.at : Access a single value for a row/column label pair.\n",
      "    DataFrame.iloc : Access group of rows and columns by integer position(s).\n",
      "    DataFrame.xs : Returns a cross-section (row(s) or column(s)) from the\n",
      "        Series/DataFrame.\n",
      "    Series.loc : Access group of values using labels.\n",
      "    \n",
      "    Examples\n",
      "    --------\n",
      "    **Getting values**\n",
      "    \n",
      "    >>> df = pd.DataFrame([[1, 2], [4, 5], [7, 8]],\n",
      "    ...      index=['cobra', 'viper', 'sidewinder'],\n",
      "    ...      columns=['max_speed', 'shield'])\n",
      "    >>> df\n",
      "                max_speed  shield\n",
      "    cobra               1       2\n",
      "    viper               4       5\n",
      "    sidewinder          7       8\n",
      "    \n",
      "    Single label. Note this returns the row as a Series.\n",
      "    \n",
      "    >>> df.loc['viper']\n",
      "    max_speed    4\n",
      "    shield       5\n",
      "    Name: viper, dtype: int64\n",
      "    \n",
      "    List of labels. Note using ``[[]]`` returns a DataFrame.\n",
      "    \n",
      "    >>> df.loc[['viper', 'sidewinder']]\n",
      "                max_speed  shield\n",
      "    viper               4       5\n",
      "    sidewinder          7       8\n",
      "    \n",
      "    Single label for row and column\n",
      "    \n",
      "    >>> df.loc['cobra', 'shield']\n",
      "    2\n",
      "    \n",
      "    Slice with labels for row and single label for column. As mentioned\n",
      "    above, note that both the start and stop of the slice are included.\n",
      "    \n",
      "    >>> df.loc['cobra':'viper', 'max_speed']\n",
      "    cobra    1\n",
      "    viper    4\n",
      "    Name: max_speed, dtype: int64\n",
      "    \n",
      "    Boolean list with the same length as the row axis\n",
      "    \n",
      "    >>> df.loc[[False, False, True]]\n",
      "                max_speed  shield\n",
      "    sidewinder          7       8\n",
      "    \n",
      "    Alignable boolean Series:\n",
      "    \n",
      "    >>> df.loc[pd.Series([False, True, False],\n",
      "    ...        index=['viper', 'sidewinder', 'cobra'])]\n",
      "                max_speed  shield\n",
      "    sidewinder          7       8\n",
      "    \n",
      "    Index (same behavior as ``df.reindex``)\n",
      "    \n",
      "    >>> df.loc[pd.Index([\"cobra\", \"viper\"], name=\"foo\")]\n",
      "           max_speed  shield\n",
      "    foo\n",
      "    cobra          1       2\n",
      "    viper          4       5\n",
      "    \n",
      "    Conditional that returns a boolean Series\n",
      "    \n",
      "    >>> df.loc[df['shield'] > 6]\n",
      "                max_speed  shield\n",
      "    sidewinder          7       8\n",
      "    \n",
      "    Conditional that returns a boolean Series with column labels specified\n",
      "    \n",
      "    >>> df.loc[df['shield'] > 6, ['max_speed']]\n",
      "                max_speed\n",
      "    sidewinder          7\n",
      "    \n",
      "    Callable that returns a boolean Series\n",
      "    \n",
      "    >>> df.loc[lambda df: df['shield'] == 8]\n",
      "                max_speed  shield\n",
      "    sidewinder          7       8\n",
      "    \n",
      "    **Setting values**\n",
      "    \n",
      "    Set value for all items matching the list of labels\n",
      "    \n",
      "    >>> df.loc[['viper', 'sidewinder'], ['shield']] = 50\n",
      "    >>> df\n",
      "                max_speed  shield\n",
      "    cobra               1       2\n",
      "    viper               4      50\n",
      "    sidewinder          7      50\n",
      "    \n",
      "    Set value for an entire row\n",
      "    \n",
      "    >>> df.loc['cobra'] = 10\n",
      "    >>> df\n",
      "                max_speed  shield\n",
      "    cobra              10      10\n",
      "    viper               4      50\n",
      "    sidewinder          7      50\n",
      "    \n",
      "    Set value for an entire column\n",
      "    \n",
      "    >>> df.loc[:, 'max_speed'] = 30\n",
      "    >>> df\n",
      "                max_speed  shield\n",
      "    cobra              30      10\n",
      "    viper              30      50\n",
      "    sidewinder         30      50\n",
      "    \n",
      "    Set value for rows matching callable condition\n",
      "    \n",
      "    >>> df.loc[df['shield'] > 35] = 0\n",
      "    >>> df\n",
      "                max_speed  shield\n",
      "    cobra              30      10\n",
      "    viper               0       0\n",
      "    sidewinder          0       0\n",
      "    \n",
      "    **Getting values on a DataFrame with an index that has integer labels**\n",
      "    \n",
      "    Another example using integers for the index\n",
      "    \n",
      "    >>> df = pd.DataFrame([[1, 2], [4, 5], [7, 8]],\n",
      "    ...      index=[7, 8, 9], columns=['max_speed', 'shield'])\n",
      "    >>> df\n",
      "       max_speed  shield\n",
      "    7          1       2\n",
      "    8          4       5\n",
      "    9          7       8\n",
      "    \n",
      "    Slice with integer labels for rows. As mentioned above, note that both\n",
      "    the start and stop of the slice are included.\n",
      "    \n",
      "    >>> df.loc[7:9]\n",
      "       max_speed  shield\n",
      "    7          1       2\n",
      "    8          4       5\n",
      "    9          7       8\n",
      "    \n",
      "    **Getting values with a MultiIndex**\n",
      "    \n",
      "    A number of examples using a DataFrame with a MultiIndex\n",
      "    \n",
      "    >>> tuples = [\n",
      "    ...    ('cobra', 'mark i'), ('cobra', 'mark ii'),\n",
      "    ...    ('sidewinder', 'mark i'), ('sidewinder', 'mark ii'),\n",
      "    ...    ('viper', 'mark ii'), ('viper', 'mark iii')\n",
      "    ... ]\n",
      "    >>> index = pd.MultiIndex.from_tuples(tuples)\n",
      "    >>> values = [[12, 2], [0, 4], [10, 20],\n",
      "    ...         [1, 4], [7, 1], [16, 36]]\n",
      "    >>> df = pd.DataFrame(values, columns=['max_speed', 'shield'], index=index)\n",
      "    >>> df\n",
      "                         max_speed  shield\n",
      "    cobra      mark i           12       2\n",
      "               mark ii           0       4\n",
      "    sidewinder mark i           10      20\n",
      "               mark ii           1       4\n",
      "    viper      mark ii           7       1\n",
      "               mark iii         16      36\n",
      "    \n",
      "    Single label. Note this returns a DataFrame with a single index.\n",
      "    \n",
      "    >>> df.loc['cobra']\n",
      "             max_speed  shield\n",
      "    mark i          12       2\n",
      "    mark ii          0       4\n",
      "    \n",
      "    Single index tuple. Note this returns a Series.\n",
      "    \n",
      "    >>> df.loc[('cobra', 'mark ii')]\n",
      "    max_speed    0\n",
      "    shield       4\n",
      "    Name: (cobra, mark ii), dtype: int64\n",
      "    \n",
      "    Single label for row and column. Similar to passing in a tuple, this\n",
      "    returns a Series.\n",
      "    \n",
      "    >>> df.loc['cobra', 'mark i']\n",
      "    max_speed    12\n",
      "    shield        2\n",
      "    Name: (cobra, mark i), dtype: int64\n",
      "    \n",
      "    Single tuple. Note using ``[[]]`` returns a DataFrame.\n",
      "    \n",
      "    >>> df.loc[[('cobra', 'mark ii')]]\n",
      "                   max_speed  shield\n",
      "    cobra mark ii          0       4\n",
      "    \n",
      "    Single tuple for the index with a single label for the column\n",
      "    \n",
      "    >>> df.loc[('cobra', 'mark i'), 'shield']\n",
      "    2\n",
      "    \n",
      "    Slice from index tuple to single label\n",
      "    \n",
      "    >>> df.loc[('cobra', 'mark i'):'viper']\n",
      "                         max_speed  shield\n",
      "    cobra      mark i           12       2\n",
      "               mark ii           0       4\n",
      "    sidewinder mark i           10      20\n",
      "               mark ii           1       4\n",
      "    viper      mark ii           7       1\n",
      "               mark iii         16      36\n",
      "    \n",
      "    Slice from index tuple to index tuple\n",
      "    \n",
      "    >>> df.loc[('cobra', 'mark i'):('viper', 'mark ii')]\n",
      "                        max_speed  shield\n",
      "    cobra      mark i          12       2\n",
      "               mark ii          0       4\n",
      "    sidewinder mark i          10      20\n",
      "               mark ii          1       4\n",
      "    viper      mark ii          7       1\n",
      "\n"
     ]
    }
   ],
   "source": [
    "help(pd.Series.loc)"
   ]
  },
  {
   "cell_type": "code",
   "execution_count": 11,
   "metadata": {
    "colab": {
     "base_uri": "https://localhost:8080/"
    },
    "id": "4lDRLZ0hMmpi",
    "outputId": "67db215e-cde2-4abe-e9b9-ad2d9a8cc63c"
   },
   "outputs": [
    {
     "name": "stdout",
     "output_type": "stream",
     "text": [
      "Help on function unstack in module pandas.core.series:\n",
      "\n",
      "unstack(self, level=-1, fill_value=None) -> 'DataFrame'\n",
      "    Unstack, also known as pivot, Series with MultiIndex to produce DataFrame.\n",
      "    \n",
      "    Parameters\n",
      "    ----------\n",
      "    level : int, str, or list of these, default last level\n",
      "        Level(s) to unstack, can pass level name.\n",
      "    fill_value : scalar value, default None\n",
      "        Value to use when replacing NaN values.\n",
      "    \n",
      "    Returns\n",
      "    -------\n",
      "    DataFrame\n",
      "        Unstacked Series.\n",
      "    \n",
      "    Examples\n",
      "    --------\n",
      "    >>> s = pd.Series([1, 2, 3, 4],\n",
      "    ...               index=pd.MultiIndex.from_product([['one', 'two'],\n",
      "    ...                                                 ['a', 'b']]))\n",
      "    >>> s\n",
      "    one  a    1\n",
      "         b    2\n",
      "    two  a    3\n",
      "         b    4\n",
      "    dtype: int64\n",
      "    \n",
      "    >>> s.unstack(level=-1)\n",
      "         a  b\n",
      "    one  1  2\n",
      "    two  3  4\n",
      "    \n",
      "    >>> s.unstack(level=0)\n",
      "       one  two\n",
      "    a    1    3\n",
      "    b    2    4\n",
      "\n"
     ]
    }
   ],
   "source": [
    "help(pd.Series.unstack)"
   ]
  },
  {
   "cell_type": "code",
   "execution_count": 12,
   "metadata": {
    "colab": {
     "base_uri": "https://localhost:8080/"
    },
    "id": "Sl3GR6DrMtVm",
    "outputId": "43f0ea62-cdf2-4496-da12-7fc354c1d2a5"
   },
   "outputs": [
    {
     "name": "stdout",
     "output_type": "stream",
     "text": [
      "Help on function drop_duplicates in module pandas.core.series:\n",
      "\n",
      "drop_duplicates(self, keep='first', inplace=False) -> 'Series | None'\n",
      "    Return Series with duplicate values removed.\n",
      "    \n",
      "    Parameters\n",
      "    ----------\n",
      "    keep : {'first', 'last', ``False``}, default 'first'\n",
      "        Method to handle dropping duplicates:\n",
      "    \n",
      "        - 'first' : Drop duplicates except for the first occurrence.\n",
      "        - 'last' : Drop duplicates except for the last occurrence.\n",
      "        - ``False`` : Drop all duplicates.\n",
      "    \n",
      "    inplace : bool, default ``False``\n",
      "        If ``True``, performs operation inplace and returns None.\n",
      "    \n",
      "    Returns\n",
      "    -------\n",
      "    Series or None\n",
      "        Series with duplicates dropped or None if ``inplace=True``.\n",
      "    \n",
      "    See Also\n",
      "    --------\n",
      "    Index.drop_duplicates : Equivalent method on Index.\n",
      "    DataFrame.drop_duplicates : Equivalent method on DataFrame.\n",
      "    Series.duplicated : Related method on Series, indicating duplicate\n",
      "        Series values.\n",
      "    \n",
      "    Examples\n",
      "    --------\n",
      "    Generate a Series with duplicated entries.\n",
      "    \n",
      "    >>> s = pd.Series(['lama', 'cow', 'lama', 'beetle', 'lama', 'hippo'],\n",
      "    ...               name='animal')\n",
      "    >>> s\n",
      "    0      lama\n",
      "    1       cow\n",
      "    2      lama\n",
      "    3    beetle\n",
      "    4      lama\n",
      "    5     hippo\n",
      "    Name: animal, dtype: object\n",
      "    \n",
      "    With the 'keep' parameter, the selection behaviour of duplicated values\n",
      "    can be changed. The value 'first' keeps the first occurrence for each\n",
      "    set of duplicated entries. The default value of keep is 'first'.\n",
      "    \n",
      "    >>> s.drop_duplicates()\n",
      "    0      lama\n",
      "    1       cow\n",
      "    3    beetle\n",
      "    5     hippo\n",
      "    Name: animal, dtype: object\n",
      "    \n",
      "    The value 'last' for parameter 'keep' keeps the last occurrence for\n",
      "    each set of duplicated entries.\n",
      "    \n",
      "    >>> s.drop_duplicates(keep='last')\n",
      "    1       cow\n",
      "    3    beetle\n",
      "    4      lama\n",
      "    5     hippo\n",
      "    Name: animal, dtype: object\n",
      "    \n",
      "    The value ``False`` for parameter 'keep' discards all sets of\n",
      "    duplicated entries. Setting the value of 'inplace' to ``True`` performs\n",
      "    the operation inplace and returns ``None``.\n",
      "    \n",
      "    >>> s.drop_duplicates(keep=False, inplace=True)\n",
      "    >>> s\n",
      "    1       cow\n",
      "    3    beetle\n",
      "    5     hippo\n",
      "    Name: animal, dtype: object\n",
      "\n"
     ]
    }
   ],
   "source": [
    "help(pd.Series.drop_duplicates)"
   ]
  },
  {
   "cell_type": "markdown",
   "metadata": {
    "id": "s0xr-TfPMzFY"
   },
   "source": [
    "2. How many attributes are found on the .str attribute? Look at the documentation for three of them.\n",
    "\n",
    "* [pd.Series.str docs](https://pandas.pydata.org/docs/reference/api/pandas.Series.str.html)"
   ]
  },
  {
   "cell_type": "code",
   "execution_count": 13,
   "metadata": {
    "colab": {
     "base_uri": "https://localhost:8080/"
    },
    "id": "ZGfOn7INNBuv",
    "outputId": "1c230be0-46a1-4156-f417-35d7e3561825"
   },
   "outputs": [
    {
     "data": {
      "text/plain": [
       "88"
      ]
     },
     "execution_count": 13,
     "metadata": {},
     "output_type": "execute_result"
    }
   ],
   "source": [
    "len(dir(pd.Series.str))"
   ]
  },
  {
   "cell_type": "code",
   "execution_count": 14,
   "metadata": {
    "colab": {
     "base_uri": "https://localhost:8080/"
    },
    "id": "Mh569k3MM6Dy",
    "outputId": "c2564828-8a71-408e-fe36-a3cc68f4324a"
   },
   "outputs": [
    {
     "name": "stdout",
     "output_type": "stream",
     "text": [
      "Help on function split in module pandas.core.strings.accessor:\n",
      "\n",
      "split(self, pat=None, n=-1, expand=False)\n",
      "    Split strings around given separator/delimiter.\n",
      "    \n",
      "    Splits the string in the Series/Index from the beginning,\n",
      "    at the specified delimiter string. Equivalent to :meth:`str.split`.\n",
      "    \n",
      "    Parameters\n",
      "    ----------\n",
      "    pat : str, optional\n",
      "        String or regular expression to split on.\n",
      "        If not specified, split on whitespace.\n",
      "    n : int, default -1 (all)\n",
      "        Limit number of splits in output.\n",
      "        ``None``, 0 and -1 will be interpreted as return all splits.\n",
      "    expand : bool, default False\n",
      "        Expand the split strings into separate columns.\n",
      "    \n",
      "        * If ``True``, return DataFrame/MultiIndex expanding dimensionality.\n",
      "        * If ``False``, return Series/Index, containing lists of strings.\n",
      "    \n",
      "    Returns\n",
      "    -------\n",
      "    Series, Index, DataFrame or MultiIndex\n",
      "        Type matches caller unless ``expand=True`` (see Notes).\n",
      "    \n",
      "    See Also\n",
      "    --------\n",
      "    Series.str.split : Split strings around given separator/delimiter.\n",
      "    Series.str.rsplit : Splits string around given separator/delimiter,\n",
      "        starting from the right.\n",
      "    Series.str.join : Join lists contained as elements in the Series/Index\n",
      "        with passed delimiter.\n",
      "    str.split : Standard library version for split.\n",
      "    str.rsplit : Standard library version for rsplit.\n",
      "    \n",
      "    Notes\n",
      "    -----\n",
      "    The handling of the `n` keyword depends on the number of found splits:\n",
      "    \n",
      "    - If found splits > `n`,  make first `n` splits only\n",
      "    - If found splits <= `n`, make all splits\n",
      "    - If for a certain row the number of found splits < `n`,\n",
      "      append `None` for padding up to `n` if ``expand=True``\n",
      "    \n",
      "    If using ``expand=True``, Series and Index callers return DataFrame and\n",
      "    MultiIndex objects, respectively.\n",
      "    \n",
      "    Examples\n",
      "    --------\n",
      "    >>> s = pd.Series(\n",
      "    ...     [\n",
      "    ...         \"this is a regular sentence\",\n",
      "    ...         \"https://docs.python.org/3/tutorial/index.html\",\n",
      "    ...         np.nan\n",
      "    ...     ]\n",
      "    ... )\n",
      "    >>> s\n",
      "    0                       this is a regular sentence\n",
      "    1    https://docs.python.org/3/tutorial/index.html\n",
      "    2                                              NaN\n",
      "    dtype: object\n",
      "    \n",
      "    In the default setting, the string is split by whitespace.\n",
      "    \n",
      "    >>> s.str.split()\n",
      "    0                   [this, is, a, regular, sentence]\n",
      "    1    [https://docs.python.org/3/tutorial/index.html]\n",
      "    2                                                NaN\n",
      "    dtype: object\n",
      "    \n",
      "    Without the `n` parameter, the outputs of `rsplit` and `split`\n",
      "    are identical.\n",
      "    \n",
      "    >>> s.str.rsplit()\n",
      "    0                   [this, is, a, regular, sentence]\n",
      "    1    [https://docs.python.org/3/tutorial/index.html]\n",
      "    2                                                NaN\n",
      "    dtype: object\n",
      "    \n",
      "    The `n` parameter can be used to limit the number of splits on the\n",
      "    delimiter. The outputs of `split` and `rsplit` are different.\n",
      "    \n",
      "    >>> s.str.split(n=2)\n",
      "    0                     [this, is, a regular sentence]\n",
      "    1    [https://docs.python.org/3/tutorial/index.html]\n",
      "    2                                                NaN\n",
      "    dtype: object\n",
      "    \n",
      "    >>> s.str.rsplit(n=2)\n",
      "    0                     [this is a, regular, sentence]\n",
      "    1    [https://docs.python.org/3/tutorial/index.html]\n",
      "    2                                                NaN\n",
      "    dtype: object\n",
      "    \n",
      "    The `pat` parameter can be used to split by other characters.\n",
      "    \n",
      "    >>> s.str.split(pat=\"/\")\n",
      "    0                         [this is a regular sentence]\n",
      "    1    [https:, , docs.python.org, 3, tutorial, index...\n",
      "    2                                                  NaN\n",
      "    dtype: object\n",
      "    \n",
      "    When using ``expand=True``, the split elements will expand out into\n",
      "    separate columns. If NaN is present, it is propagated throughout\n",
      "    the columns during the split.\n",
      "    \n",
      "    >>> s.str.split(expand=True)\n",
      "                                                   0     1     2        3         4\n",
      "    0                                           this    is     a  regular  sentence\n",
      "    1  https://docs.python.org/3/tutorial/index.html  None  None     None      None\n",
      "    2                                            NaN   NaN   NaN      NaN       NaN\n",
      "    \n",
      "    For slightly more complex use cases like splitting the html document name\n",
      "    from a url, a combination of parameter settings can be used.\n",
      "    \n",
      "    >>> s.str.rsplit(\"/\", n=1, expand=True)\n",
      "                                        0           1\n",
      "    0          this is a regular sentence        None\n",
      "    1  https://docs.python.org/3/tutorial  index.html\n",
      "    2                                 NaN         NaN\n",
      "    \n",
      "    Remember to escape special characters when explicitly using regular\n",
      "    expressions.\n",
      "    \n",
      "    >>> s = pd.Series([\"1+1=2\"])\n",
      "    >>> s\n",
      "    0    1+1=2\n",
      "    dtype: object\n",
      "    >>> s.str.split(r\"\\+|=\", expand=True)\n",
      "         0    1    2\n",
      "    0    1    1    2\n",
      "\n"
     ]
    }
   ],
   "source": [
    "help(pd.Series.str.split)"
   ]
  },
  {
   "cell_type": "code",
   "execution_count": 15,
   "metadata": {
    "colab": {
     "base_uri": "https://localhost:8080/"
    },
    "id": "qKVx8f80M-Vx",
    "outputId": "631abde3-732d-4165-b927-1702c42f111a"
   },
   "outputs": [
    {
     "name": "stdout",
     "output_type": "stream",
     "text": [
      "Help on function capitalize in module pandas.core.strings.accessor:\n",
      "\n",
      "capitalize(self)\n",
      "    Convert strings in the Series/Index to be capitalized.\n",
      "    \n",
      "    Equivalent to :meth:`str.capitalize`.\n",
      "    \n",
      "    Returns\n",
      "    -------\n",
      "    Series or Index of object\n",
      "    \n",
      "    See Also\n",
      "    --------\n",
      "    Series.str.lower : Converts all characters to lowercase.\n",
      "    Series.str.upper : Converts all characters to uppercase.\n",
      "    Series.str.title : Converts first character of each word to uppercase and\n",
      "        remaining to lowercase.\n",
      "    Series.str.capitalize : Converts first character to uppercase and\n",
      "        remaining to lowercase.\n",
      "    Series.str.swapcase : Converts uppercase to lowercase and lowercase to\n",
      "        uppercase.\n",
      "    Series.str.casefold: Removes all case distinctions in the string.\n",
      "    \n",
      "    Examples\n",
      "    --------\n",
      "    >>> s = pd.Series(['lower', 'CAPITALS', 'this is a sentence', 'SwApCaSe'])\n",
      "    >>> s\n",
      "    0                 lower\n",
      "    1              CAPITALS\n",
      "    2    this is a sentence\n",
      "    3              SwApCaSe\n",
      "    dtype: object\n",
      "    \n",
      "    >>> s.str.lower()\n",
      "    0                 lower\n",
      "    1              capitals\n",
      "    2    this is a sentence\n",
      "    3              swapcase\n",
      "    dtype: object\n",
      "    \n",
      "    >>> s.str.upper()\n",
      "    0                 LOWER\n",
      "    1              CAPITALS\n",
      "    2    THIS IS A SENTENCE\n",
      "    3              SWAPCASE\n",
      "    dtype: object\n",
      "    \n",
      "    >>> s.str.title()\n",
      "    0                 Lower\n",
      "    1              Capitals\n",
      "    2    This Is A Sentence\n",
      "    3              Swapcase\n",
      "    dtype: object\n",
      "    \n",
      "    >>> s.str.capitalize()\n",
      "    0                 Lower\n",
      "    1              Capitals\n",
      "    2    This is a sentence\n",
      "    3              Swapcase\n",
      "    dtype: object\n",
      "    \n",
      "    >>> s.str.swapcase()\n",
      "    0                 LOWER\n",
      "    1              capitals\n",
      "    2    THIS IS A SENTENCE\n",
      "    3              sWaPcAsE\n",
      "    dtype: object\n",
      "\n"
     ]
    }
   ],
   "source": [
    "help(pd.Series.str.capitalize)"
   ]
  },
  {
   "cell_type": "code",
   "execution_count": 16,
   "metadata": {
    "colab": {
     "base_uri": "https://localhost:8080/"
    },
    "id": "uTmHmezqNX3E",
    "outputId": "d9cd0043-e63e-4939-fa48-ff3333759867"
   },
   "outputs": [
    {
     "name": "stdout",
     "output_type": "stream",
     "text": [
      "Help on function get_dummies in module pandas.core.strings.accessor:\n",
      "\n",
      "get_dummies(self, sep='|')\n",
      "    Return DataFrame of dummy/indicator variables for Series.\n",
      "    \n",
      "    Each string in Series is split by sep and returned as a DataFrame\n",
      "    of dummy/indicator variables.\n",
      "    \n",
      "    Parameters\n",
      "    ----------\n",
      "    sep : str, default \"|\"\n",
      "        String to split on.\n",
      "    \n",
      "    Returns\n",
      "    -------\n",
      "    DataFrame\n",
      "        Dummy variables corresponding to values of the Series.\n",
      "    \n",
      "    See Also\n",
      "    --------\n",
      "    get_dummies : Convert categorical variable into dummy/indicator\n",
      "        variables.\n",
      "    \n",
      "    Examples\n",
      "    --------\n",
      "    >>> pd.Series(['a|b', 'a', 'a|c']).str.get_dummies()\n",
      "       a  b  c\n",
      "    0  1  1  0\n",
      "    1  1  0  0\n",
      "    2  1  0  1\n",
      "    \n",
      "    >>> pd.Series(['a|b', np.nan, 'a|c']).str.get_dummies()\n",
      "       a  b  c\n",
      "    0  1  1  0\n",
      "    1  0  0  0\n",
      "    2  1  0  1\n",
      "\n"
     ]
    }
   ],
   "source": [
    "help(pd.Series.str.get_dummies)"
   ]
  },
  {
   "cell_type": "markdown",
   "metadata": {
    "id": "DY8w8HIeNq0M"
   },
   "source": [
    "3. How many attributes are found on the .dt attribute? Look at the documentation for three of them."
   ]
  },
  {
   "cell_type": "code",
   "execution_count": 17,
   "metadata": {
    "colab": {
     "base_uri": "https://localhost:8080/"
    },
    "id": "E71DfWK-NnP7",
    "outputId": "7b749583-6bfb-48d4-d6fd-2a933e22fae7"
   },
   "outputs": [
    {
     "data": {
      "text/plain": [
       "93"
      ]
     },
     "execution_count": 17,
     "metadata": {},
     "output_type": "execute_result"
    }
   ],
   "source": [
    "len(dir(pd.Series.dt))"
   ]
  },
  {
   "cell_type": "code",
   "execution_count": 18,
   "metadata": {
    "colab": {
     "base_uri": "https://localhost:8080/"
    },
    "id": "4rCkygO-Nyxm",
    "outputId": "675c3d17-f104-4dbf-83b8-560cb623c35c"
   },
   "outputs": [
    {
     "name": "stdout",
     "output_type": "stream",
     "text": [
      "Help on property:\n",
      "\n",
      "    Returns numpy array of python datetime.date objects (namely, the date\n",
      "    part of Timestamps without timezone information).\n",
      "\n"
     ]
    }
   ],
   "source": [
    "help(pd.Series.dt.date)"
   ]
  },
  {
   "cell_type": "code",
   "execution_count": 19,
   "metadata": {
    "colab": {
     "base_uri": "https://localhost:8080/"
    },
    "id": "Gu9hcUDXN5ot",
    "outputId": "2651bb87-d6f4-4520-c5a7-80c7640848de"
   },
   "outputs": [
    {
     "name": "stdout",
     "output_type": "stream",
     "text": [
      "Help on function asfreq in module pandas.core.accessor:\n",
      "\n",
      "asfreq(self, *args, **kwargs)\n",
      "    Convert the PeriodArray to the specified frequency `freq`.\n",
      "    \n",
      "    Equivalent to applying :meth:`pandas.Period.asfreq` with the given arguments\n",
      "    to each :class:`~pandas.Period` in this PeriodArray.\n",
      "    \n",
      "    Parameters\n",
      "    ----------\n",
      "    freq : str\n",
      "        A frequency.\n",
      "    how : str {'E', 'S'}, default 'E'\n",
      "        Whether the elements should be aligned to the end\n",
      "        or start within pa period.\n",
      "    \n",
      "        * 'E', 'END', or 'FINISH' for end,\n",
      "        * 'S', 'START', or 'BEGIN' for start.\n",
      "    \n",
      "        January 31st ('END') vs. January 1st ('START') for example.\n",
      "    \n",
      "    Returns\n",
      "    -------\n",
      "    PeriodArray\n",
      "        The transformed PeriodArray with the new frequency.\n",
      "    \n",
      "    See Also\n",
      "    --------\n",
      "    PeriodIndex.asfreq: Convert each Period in a PeriodIndex to the given frequency.\n",
      "    Period.asfreq : Convert a :class:`~pandas.Period` object to the given frequency.\n",
      "    \n",
      "    Examples\n",
      "    --------\n",
      "    >>> pidx = pd.period_range('2010-01-01', '2015-01-01', freq='A')\n",
      "    >>> pidx\n",
      "    PeriodIndex(['2010', '2011', '2012', '2013', '2014', '2015'],\n",
      "    dtype='period[A-DEC]')\n",
      "    \n",
      "    >>> pidx.asfreq('M')\n",
      "    PeriodIndex(['2010-12', '2011-12', '2012-12', '2013-12', '2014-12',\n",
      "    '2015-12'], dtype='period[M]')\n",
      "    \n",
      "    >>> pidx.asfreq('M', how='S')\n",
      "    PeriodIndex(['2010-01', '2011-01', '2012-01', '2013-01', '2014-01',\n",
      "    '2015-01'], dtype='period[M]')\n",
      "\n"
     ]
    }
   ],
   "source": [
    "help(pd.Series.dt.asfreq)"
   ]
  },
  {
   "cell_type": "code",
   "execution_count": 20,
   "metadata": {
    "colab": {
     "base_uri": "https://localhost:8080/"
    },
    "id": "a5P1h6MuN7s7",
    "outputId": "0361df67-6e1e-4e95-92c0-f3a504707ee4"
   },
   "outputs": [
    {
     "name": "stdout",
     "output_type": "stream",
     "text": [
      "Help on function day_name in module pandas.core.accessor:\n",
      "\n",
      "day_name(self, *args, **kwargs)\n",
      "    Return the day names of the DateTimeIndex with specified locale.\n",
      "    \n",
      "    Parameters\n",
      "    ----------\n",
      "    locale : str, optional\n",
      "        Locale determining the language in which to return the day name.\n",
      "        Default is English locale.\n",
      "    \n",
      "    Returns\n",
      "    -------\n",
      "    Index\n",
      "        Index of day names.\n",
      "    \n",
      "    Examples\n",
      "    --------\n",
      "    >>> idx = pd.date_range(start='2018-01-01', freq='D', periods=3)\n",
      "    >>> idx\n",
      "    DatetimeIndex(['2018-01-01', '2018-01-02', '2018-01-03'],\n",
      "                  dtype='datetime64[ns]', freq='D')\n",
      "    >>> idx.day_name()\n",
      "    Index(['Monday', 'Tuesday', 'Wednesday'], dtype='object')\n",
      "\n"
     ]
    }
   ],
   "source": [
    "help(pd.Series.dt.day_name)"
   ]
  },
  {
   "cell_type": "markdown",
   "metadata": {
    "id": "sOj7taCL9nS2"
   },
   "source": [
    "# Operators (& Dunder Methods)\n",
    "* Magic methods in python"
   ]
  },
  {
   "cell_type": "code",
   "execution_count": 21,
   "metadata": {
    "colab": {
     "base_uri": "https://localhost:8080/"
    },
    "id": "VMeuoLa2N-13",
    "outputId": "e576b74f-5810-4d5e-8b7d-00a28285c1d7"
   },
   "outputs": [
    {
     "data": {
      "text/plain": [
       "0        22.0\n",
       "1        11.5\n",
       "2        28.0\n",
       "3        11.0\n",
       "4        20.0\n",
       "         ... \n",
       "41139    22.5\n",
       "41140    24.0\n",
       "41141    21.0\n",
       "41142    21.0\n",
       "41143    18.5\n",
       "Length: 41144, dtype: float64"
      ]
     },
     "execution_count": 21,
     "metadata": {},
     "output_type": "execute_result"
    }
   ],
   "source": [
    "# Calculating the average of two series\n",
    "(city_mpg + highway_mpg) / 2"
   ]
  },
  {
   "cell_type": "markdown",
   "metadata": {
    "id": "Ahi1t4h8-TiQ"
   },
   "source": [
    "## Criterias to perform operations on Series\n",
    "* The indexes are unique (no duplicates)\n",
    "* The indexes are common to both series\n",
    "\n",
    "## Remember\n",
    "* Pandas will *broadcasts* the math operations\n",
    "* These operations are optimized by the *vectorization* \n",
    "* A numeric pandas series is a block of memory, and moderns CPU's leverage Single Instructions"
   ]
  },
  {
   "cell_type": "code",
   "execution_count": 22,
   "metadata": {
    "id": "2OO_Miig-Sz-"
   },
   "outputs": [],
   "source": [
    "s1 = pd.Series([10, 20, 30], index=[1, 2, 2])\n",
    "s2 = pd.Series([35, 44, 53], index=[2, 2, 4], name='s2')"
   ]
  },
  {
   "cell_type": "code",
   "execution_count": 23,
   "metadata": {
    "colab": {
     "base_uri": "https://localhost:8080/"
    },
    "id": "nCSNZDVW95EH",
    "outputId": "566204cd-6ceb-411a-c68e-94397b9823f3"
   },
   "outputs": [
    {
     "data": {
      "text/plain": [
       "1    10\n",
       "2    20\n",
       "2    30\n",
       "dtype: int64"
      ]
     },
     "execution_count": 23,
     "metadata": {},
     "output_type": "execute_result"
    }
   ],
   "source": [
    "s1"
   ]
  },
  {
   "cell_type": "code",
   "execution_count": 24,
   "metadata": {
    "colab": {
     "base_uri": "https://localhost:8080/"
    },
    "id": "2ZTBh7lZ-oJy",
    "outputId": "21cb4fa9-db35-4050-8983-7076c8ed0b95"
   },
   "outputs": [
    {
     "data": {
      "text/plain": [
       "2    35\n",
       "2    44\n",
       "4    53\n",
       "Name: s2, dtype: int64"
      ]
     },
     "execution_count": 24,
     "metadata": {},
     "output_type": "execute_result"
    }
   ],
   "source": [
    "s2"
   ]
  },
  {
   "cell_type": "code",
   "execution_count": 25,
   "metadata": {
    "colab": {
     "base_uri": "https://localhost:8080/"
    },
    "id": "JzNjuVod-o5q",
    "outputId": "750a022d-6912-4a93-8682-4f89ca09430b"
   },
   "outputs": [
    {
     "data": {
      "text/plain": [
       "1     NaN\n",
       "2    55.0\n",
       "2    64.0\n",
       "2    65.0\n",
       "2    74.0\n",
       "4     NaN\n",
       "dtype: float64"
      ]
     },
     "execution_count": 25,
     "metadata": {},
     "output_type": "execute_result"
    }
   ],
   "source": [
    "s1 + s2"
   ]
  },
  {
   "cell_type": "markdown",
   "metadata": {
    "id": "Hi3gwKJG-r0e"
   },
   "source": [
    "Only the values with the same indexes where added!\n",
    "\n",
    "## Iterartions\n",
    "* Avoid them! We lose the benefits of vectorization and operating at the C level!\n",
    "\n",
    "## Operators methods\n",
    "* It's possible to change the behavior passing parameters to the methods"
   ]
  },
  {
   "cell_type": "code",
   "execution_count": 26,
   "metadata": {
    "colab": {
     "base_uri": "https://localhost:8080/"
    },
    "id": "Me1e96I6-qrs",
    "outputId": "bd9e56c4-37ea-48d6-ab6c-cb3fd96ee849"
   },
   "outputs": [
    {
     "data": {
      "text/plain": [
       "1     NaN\n",
       "2    55.0\n",
       "2    64.0\n",
       "2    65.0\n",
       "2    74.0\n",
       "4     NaN\n",
       "dtype: float64"
      ]
     },
     "execution_count": 26,
     "metadata": {},
     "output_type": "execute_result"
    }
   ],
   "source": [
    "s1 + s2"
   ]
  },
  {
   "cell_type": "code",
   "execution_count": 28,
   "metadata": {
    "colab": {
     "base_uri": "https://localhost:8080/"
    },
    "id": "Nfmn8wQXAY9U",
    "outputId": "8fea74f6-8170-434f-8849-12013a7e9f1d"
   },
   "outputs": [
    {
     "data": {
      "text/plain": [
       "1    10.0\n",
       "2    55.0\n",
       "2    64.0\n",
       "2    65.0\n",
       "2    74.0\n",
       "4    53.0\n",
       "dtype: float64"
      ]
     },
     "execution_count": 28,
     "metadata": {},
     "output_type": "execute_result"
    }
   ],
   "source": [
    "s1.add(s2, fill_value=0.0)"
   ]
  },
  {
   "cell_type": "markdown",
   "metadata": {
    "id": "XE3Y2Gp2Amev"
   },
   "source": [
    "## Chaining\n",
    "* Stylistic $\\to$ help us to read the code better"
   ]
  },
  {
   "cell_type": "code",
   "execution_count": 30,
   "metadata": {
    "colab": {
     "base_uri": "https://localhost:8080/"
    },
    "id": "f4VIiOUAAZ_x",
    "outputId": "edf8de4c-1298-4fe6-80f2-fe38731241f9"
   },
   "outputs": [
    {
     "data": {
      "text/plain": [
       "0        22.0\n",
       "1        11.5\n",
       "2        28.0\n",
       "3        11.0\n",
       "4        20.0\n",
       "         ... \n",
       "41139    22.5\n",
       "41140    24.0\n",
       "41141    21.0\n",
       "41142    21.0\n",
       "41143    18.5\n",
       "Length: 41144, dtype: float64"
      ]
     },
     "execution_count": 30,
     "metadata": {},
     "output_type": "execute_result"
    }
   ],
   "source": [
    "(city_mpg\n",
    "    .add(highway_mpg)\n",
    "    .div(2)\n",
    ")"
   ]
  },
  {
   "cell_type": "markdown",
   "metadata": {
    "id": "L80T5Y3nBHQr"
   },
   "source": [
    "## Exercises\n",
    "1. Add a numeric series to itself."
   ]
  },
  {
   "cell_type": "code",
   "execution_count": 33,
   "metadata": {
    "colab": {
     "base_uri": "https://localhost:8080/"
    },
    "id": "j7FwrLBzBAis",
    "outputId": "942d8df4-4e41-43a7-eace-71a1114871e4"
   },
   "outputs": [
    {
     "data": {
      "text/plain": [
       "0      0\n",
       "1      1\n",
       "2      1\n",
       "3      2\n",
       "4      3\n",
       "5      5\n",
       "6      8\n",
       "7     13\n",
       "8     21\n",
       "9     34\n",
       "10    55\n",
       "Name: fibonacci_sequence, dtype: int64"
      ]
     },
     "execution_count": 33,
     "metadata": {},
     "output_type": "execute_result"
    }
   ],
   "source": [
    "my_series = pd.Series([0, 1, 1, 2, 3, 5, 8, 13, 21, 34, 55], index=list(range(11)), dtype='int64', name='fibonacci_sequence')\n",
    "my_series"
   ]
  },
  {
   "cell_type": "code",
   "execution_count": 34,
   "metadata": {
    "colab": {
     "base_uri": "https://localhost:8080/"
    },
    "id": "5fGYQ-pQBbE7",
    "outputId": "e5863962-501a-47a8-cb8e-61e7b6b8f0cf"
   },
   "outputs": [
    {
     "data": {
      "text/plain": [
       "0       0\n",
       "1       2\n",
       "2       2\n",
       "3       4\n",
       "4       6\n",
       "5      10\n",
       "6      16\n",
       "7      26\n",
       "8      42\n",
       "9      68\n",
       "10    110\n",
       "Name: fibonacci_sequence, dtype: int64"
      ]
     },
     "execution_count": 34,
     "metadata": {},
     "output_type": "execute_result"
    }
   ],
   "source": [
    "my_series.add(my_series)"
   ]
  },
  {
   "cell_type": "markdown",
   "metadata": {
    "id": "5_cG1tPXBoNE"
   },
   "source": [
    "2. Add 10 to a numeric series."
   ]
  },
  {
   "cell_type": "code",
   "execution_count": 35,
   "metadata": {
    "colab": {
     "base_uri": "https://localhost:8080/"
    },
    "id": "I5Po-tf9Bli7",
    "outputId": "9716bfc7-cd68-45a5-ba03-9125ca9d9922"
   },
   "outputs": [
    {
     "data": {
      "text/plain": [
       "0     10\n",
       "1     11\n",
       "2     11\n",
       "3     12\n",
       "4     13\n",
       "5     15\n",
       "6     18\n",
       "7     23\n",
       "8     31\n",
       "9     44\n",
       "10    65\n",
       "Name: fibonacci_sequence, dtype: int64"
      ]
     },
     "execution_count": 35,
     "metadata": {},
     "output_type": "execute_result"
    }
   ],
   "source": [
    "my_series.add(10)"
   ]
  },
  {
   "cell_type": "markdown",
   "metadata": {
    "id": "sUzXD69EBu2x"
   },
   "source": [
    "3. Add a numeric series to itself using the .add method.\n",
    "\n",
    "* Already did that\n",
    "\n",
    "4. Read the documentation for the .add method."
   ]
  },
  {
   "cell_type": "code",
   "execution_count": 39,
   "metadata": {
    "colab": {
     "base_uri": "https://localhost:8080/"
    },
    "id": "hYgJ4FiKBrXV",
    "outputId": "3f45a7bf-b2ae-467a-af0b-fd44038d608e"
   },
   "outputs": [
    {
     "name": "stdout",
     "output_type": "stream",
     "text": [
      "('\\n'\n",
      " 'Return Addition of series and other, element-wise (binary operator `add`).\\n'\n",
      " '\\n'\n",
      " 'Equivalent to ``series + other``, but with support to substitute a '\n",
      " 'fill_value for\\n'\n",
      " 'missing data in either one of the inputs.\\n'\n",
      " '\\n'\n",
      " 'Parameters\\n'\n",
      " '----------\\n'\n",
      " 'other : Series or scalar value\\n'\n",
      " 'fill_value : None or float value, default None (NaN)\\n'\n",
      " '    Fill existing missing (NaN) values, and any new element needed for\\n'\n",
      " '    successful Series alignment, with this value before computation.\\n'\n",
      " '    If data in both corresponding Series locations is missing\\n'\n",
      " '    the result of filling (at that location) will be missing.\\n'\n",
      " 'level : int or name\\n'\n",
      " '    Broadcast across a level, matching Index values on the\\n'\n",
      " '    passed MultiIndex level.\\n'\n",
      " '\\n'\n",
      " 'Returns\\n'\n",
      " '-------\\n'\n",
      " 'Series\\n'\n",
      " '    The result of the operation.\\n'\n",
      " '\\n'\n",
      " 'See Also\\n'\n",
      " '--------\\n'\n",
      " 'Series.radd : Reverse of the Addition operator, see\\n'\n",
      " '    `Python documentation\\n'\n",
      " '    '\n",
      " '<https://docs.python.org/3/reference/datamodel.html#emulating-numeric-types>`_\\n'\n",
      " '    for more details.\\n'\n",
      " '\\n'\n",
      " 'Examples\\n'\n",
      " '--------\\n'\n",
      " \">>> a = pd.Series([1, 1, 1, np.nan], index=['a', 'b', 'c', 'd'])\\n\"\n",
      " '>>> a\\n'\n",
      " 'a    1.0\\n'\n",
      " 'b    1.0\\n'\n",
      " 'c    1.0\\n'\n",
      " 'd    NaN\\n'\n",
      " 'dtype: float64\\n'\n",
      " \">>> b = pd.Series([1, np.nan, 1, np.nan], index=['a', 'b', 'd', 'e'])\\n\"\n",
      " '>>> b\\n'\n",
      " 'a    1.0\\n'\n",
      " 'b    NaN\\n'\n",
      " 'd    1.0\\n'\n",
      " 'e    NaN\\n'\n",
      " 'dtype: float64\\n'\n",
      " '>>> a.add(b, fill_value=0)\\n'\n",
      " 'a    2.0\\n'\n",
      " 'b    1.0\\n'\n",
      " 'c    1.0\\n'\n",
      " 'd    1.0\\n'\n",
      " 'e    NaN\\n'\n",
      " 'dtype: float64\\n')\n"
     ]
    }
   ],
   "source": [
    "from pprint import pprint\n",
    "pprint(my_series.add.__doc__)"
   ]
  },
  {
   "cell_type": "code",
   "execution_count": null,
   "metadata": {
    "id": "D5mLLc4jB1f0"
   },
   "outputs": [],
   "source": []
  }
 ],
 "metadata": {
  "colab": {
   "authorship_tag": "ABX9TyMV+4cn/fOXPtYe2MjUdjyh",
   "collapsed_sections": [],
   "include_colab_link": true,
   "provenance": []
  },
  "kernelspec": {
   "display_name": "Python 3",
   "language": "python",
   "name": "python3"
  },
  "language_info": {
   "codemirror_mode": {
    "name": "ipython",
    "version": 3
   },
   "file_extension": ".py",
   "mimetype": "text/x-python",
   "name": "python",
   "nbconvert_exporter": "python",
   "pygments_lexer": "ipython3",
   "version": "3.8.8"
  }
 },
 "nbformat": 4,
 "nbformat_minor": 4
}
